{
  "nbformat": 4,
  "nbformat_minor": 0,
  "metadata": {
    "colab": {
      "name": "HiAGM format.ipynb",
      "provenance": [],
      "collapsed_sections": []
    },
    "kernelspec": {
      "name": "python3",
      "display_name": "Python 3"
    },
    "language_info": {
      "name": "python"
    }
  },
  "cells": [
    {
      "cell_type": "markdown",
      "metadata": {
        "id": "4MImqigQUJ3S"
      },
      "source": [
        "## Source Data"
      ]
    },
    {
      "cell_type": "markdown",
      "metadata": {
        "id": "hZ-MgPzwUU-K"
      },
      "source": [
        "### Download Data"
      ]
    },
    {
      "cell_type": "code",
      "metadata": {
        "colab": {
          "base_uri": "https://localhost:8080/"
        },
        "id": "32mum-yBf6Da",
        "outputId": "2d7d76e5-260e-43e1-e0c4-9bfe1085ee45"
      },
      "source": [
        "import gdown\n",
        "\n",
        "!gdown https://drive.google.com/uc?id=1HIwPFk5eMJRoBLfkWOM7Lm_wBAgpXV0h\n",
        "!gdown https://drive.google.com/uc?id=14Me1pWdIeM4nJCIY1FM8bx8z68HaZfba"
      ],
      "execution_count": null,
      "outputs": [
        {
          "output_type": "stream",
          "name": "stdout",
          "text": [
            "Downloading...\n",
            "From: https://drive.google.com/uc?id=1HIwPFk5eMJRoBLfkWOM7Lm_wBAgpXV0h\n",
            "To: /content/test_data.json\n",
            "100% 1.16G/1.16G [00:09<00:00, 124MB/s]\n",
            "Downloading...\n",
            "From: https://drive.google.com/uc?id=14Me1pWdIeM4nJCIY1FM8bx8z68HaZfba\n",
            "To: /content/train_data.json\n",
            "100% 33.2M/33.2M [00:00<00:00, 102MB/s]\n"
          ]
        }
      ]
    },
    {
      "cell_type": "code",
      "metadata": {
        "colab": {
          "base_uri": "https://localhost:8080/"
        },
        "id": "FnK8lu9gOxRj",
        "outputId": "bfe88794-4727-49a0-e280-2544b8ba10af"
      },
      "source": [
        "from google.colab import drive\n",
        "drive.mount('/content/drive')"
      ],
      "execution_count": null,
      "outputs": [
        {
          "output_type": "stream",
          "name": "stdout",
          "text": [
            "Mounted at /content/drive\n"
          ]
        }
      ]
    },
    {
      "cell_type": "markdown",
      "metadata": {
        "id": "ReNfECCuUkfz"
      },
      "source": [
        "### Format Data"
      ]
    },
    {
      "cell_type": "code",
      "metadata": {
        "id": "EWpMNAYNiXAd"
      },
      "source": [
        "import json\n",
        "import numpy as np\n",
        "\n",
        "train_list = json.load(open(\"/content/train_data.json\",))\n",
        "train_data = np.array(list(map(lambda x: (list(x.values())[:2]), train_list)),dtype=object)\n",
        "train_labels= np.array(list(map(lambda x: list(x.values())[2], train_list)),dtype=object)\n",
        "\n",
        "test_list = json.load(open(\"/content/test_data.json\",))\n",
        "test_data = np.array(list(map(lambda x: list(x.values())[:2], test_list)),dtype=object)\n",
        "test_labels = np.array(list(map(lambda x: list(x.values())[2], test_list)),dtype=object)"
      ],
      "execution_count": null,
      "outputs": []
    },
    {
      "cell_type": "code",
      "source": [
        "val_list = json.load(open(\"/content/val_data.json\",))\n",
        "val_data = np.array(list(map(lambda x: list(x.values())[:2], val_list)),dtype=object)\n",
        "val_labels = np.array(list(map(lambda x: list(x.values())[2], val_list)),dtype=object)"
      ],
      "metadata": {
        "id": "TrhZDU4c0OP3"
      },
      "execution_count": null,
      "outputs": []
    },
    {
      "cell_type": "markdown",
      "metadata": {
        "id": "X9oNFiDGSVc8"
      },
      "source": [
        "##Preprocess"
      ]
    },
    {
      "cell_type": "markdown",
      "metadata": {
        "id": "6kQlFoeV4ojf"
      },
      "source": [
        "### Create DataFrames"
      ]
    },
    {
      "cell_type": "code",
      "metadata": {
        "id": "GTUixnvtB8MO"
      },
      "source": [
        "import pandas as pd\n",
        "train_df = pd.DataFrame()\n",
        "train_df['labels'] = train_labels.tolist()\n",
        "train_df['text'] = train_data[:,1]\n",
        "\n",
        "test_df = pd.DataFrame()\n",
        "test_df['labels'] = test_labels.tolist()\n",
        "test_df['text'] = test_data[:,1]"
      ],
      "execution_count": null,
      "outputs": []
    },
    {
      "cell_type": "code",
      "source": [
        "#run only when you have pre val file\n",
        "val_df = pd.DataFrame()\n",
        "val_df['labels'] = val_labels.tolist()\n",
        "val_df['text'] = val_data[:,1]"
      ],
      "metadata": {
        "id": "ABSwzxeYrlF0"
      },
      "execution_count": null,
      "outputs": []
    },
    {
      "cell_type": "code",
      "metadata": {
        "colab": {
          "base_uri": "https://localhost:8080/"
        },
        "id": "jtZDW-HhRrSJ",
        "outputId": "be9e990e-a675-4f1e-dc21-ef3b4e7fcad3"
      },
      "source": [
        "print(\"Number of train texts \",len(train_df['text']))\n",
        "print(\"Number of train labels \",len(train_df['labels']))\n",
        "print(\"Number of test texts \",len(test_df['text']))\n",
        "print(\"Number of test labels \",len(test_df['labels']))\n",
        "train_df.head()\n",
        "#test_df.head()"
      ],
      "execution_count": null,
      "outputs": [
        {
          "output_type": "stream",
          "name": "stdout",
          "text": [
            "Number of train texts  23149\n",
            "Number of train labels  23149\n",
            "Number of test texts  781265\n",
            "Number of test labels  781265\n"
          ]
        },
        {
          "output_type": "execute_result",
          "data": {
            "text/html": [
              "\n",
              "  <div id=\"df-08d732cf-7d99-4e55-b405-82a457947d79\">\n",
              "    <div class=\"colab-df-container\">\n",
              "      <div>\n",
              "<style scoped>\n",
              "    .dataframe tbody tr th:only-of-type {\n",
              "        vertical-align: middle;\n",
              "    }\n",
              "\n",
              "    .dataframe tbody tr th {\n",
              "        vertical-align: top;\n",
              "    }\n",
              "\n",
              "    .dataframe thead th {\n",
              "        text-align: right;\n",
              "    }\n",
              "</style>\n",
              "<table border=\"1\" class=\"dataframe\">\n",
              "  <thead>\n",
              "    <tr style=\"text-align: right;\">\n",
              "      <th></th>\n",
              "      <th>labels</th>\n",
              "      <th>text</th>\n",
              "    </tr>\n",
              "  </thead>\n",
              "  <tbody>\n",
              "    <tr>\n",
              "      <th>0</th>\n",
              "      <td>[E11, ECAT, M11, M12, MCAT]</td>\n",
              "      <td>Emerging evidence that Mexico's economy was ba...</td>\n",
              "    </tr>\n",
              "    <tr>\n",
              "      <th>1</th>\n",
              "      <td>[C24, CCAT]</td>\n",
              "      <td>Chrysler Corp. Tuesday announced $380 million ...</td>\n",
              "    </tr>\n",
              "    <tr>\n",
              "      <th>2</th>\n",
              "      <td>[C151, C15, CCAT, E41, ECAT, GCAT, GJOB]</td>\n",
              "      <td>CompuServe Corp. Tuesday reported a surprising...</td>\n",
              "    </tr>\n",
              "    <tr>\n",
              "      <th>3</th>\n",
              "      <td>[C151, C15, CCAT]</td>\n",
              "      <td>CompuServe Corp. Tuesday reported a surprising...</td>\n",
              "    </tr>\n",
              "    <tr>\n",
              "      <th>4</th>\n",
              "      <td>[C11, C22, CCAT]</td>\n",
              "      <td>If dining at Planet Hollywood made you feel li...</td>\n",
              "    </tr>\n",
              "  </tbody>\n",
              "</table>\n",
              "</div>\n",
              "      <button class=\"colab-df-convert\" onclick=\"convertToInteractive('df-08d732cf-7d99-4e55-b405-82a457947d79')\"\n",
              "              title=\"Convert this dataframe to an interactive table.\"\n",
              "              style=\"display:none;\">\n",
              "        \n",
              "  <svg xmlns=\"http://www.w3.org/2000/svg\" height=\"24px\"viewBox=\"0 0 24 24\"\n",
              "       width=\"24px\">\n",
              "    <path d=\"M0 0h24v24H0V0z\" fill=\"none\"/>\n",
              "    <path d=\"M18.56 5.44l.94 2.06.94-2.06 2.06-.94-2.06-.94-.94-2.06-.94 2.06-2.06.94zm-11 1L8.5 8.5l.94-2.06 2.06-.94-2.06-.94L8.5 2.5l-.94 2.06-2.06.94zm10 10l.94 2.06.94-2.06 2.06-.94-2.06-.94-.94-2.06-.94 2.06-2.06.94z\"/><path d=\"M17.41 7.96l-1.37-1.37c-.4-.4-.92-.59-1.43-.59-.52 0-1.04.2-1.43.59L10.3 9.45l-7.72 7.72c-.78.78-.78 2.05 0 2.83L4 21.41c.39.39.9.59 1.41.59.51 0 1.02-.2 1.41-.59l7.78-7.78 2.81-2.81c.8-.78.8-2.07 0-2.86zM5.41 20L4 18.59l7.72-7.72 1.47 1.35L5.41 20z\"/>\n",
              "  </svg>\n",
              "      </button>\n",
              "      \n",
              "  <style>\n",
              "    .colab-df-container {\n",
              "      display:flex;\n",
              "      flex-wrap:wrap;\n",
              "      gap: 12px;\n",
              "    }\n",
              "\n",
              "    .colab-df-convert {\n",
              "      background-color: #E8F0FE;\n",
              "      border: none;\n",
              "      border-radius: 50%;\n",
              "      cursor: pointer;\n",
              "      display: none;\n",
              "      fill: #1967D2;\n",
              "      height: 32px;\n",
              "      padding: 0 0 0 0;\n",
              "      width: 32px;\n",
              "    }\n",
              "\n",
              "    .colab-df-convert:hover {\n",
              "      background-color: #E2EBFA;\n",
              "      box-shadow: 0px 1px 2px rgba(60, 64, 67, 0.3), 0px 1px 3px 1px rgba(60, 64, 67, 0.15);\n",
              "      fill: #174EA6;\n",
              "    }\n",
              "\n",
              "    [theme=dark] .colab-df-convert {\n",
              "      background-color: #3B4455;\n",
              "      fill: #D2E3FC;\n",
              "    }\n",
              "\n",
              "    [theme=dark] .colab-df-convert:hover {\n",
              "      background-color: #434B5C;\n",
              "      box-shadow: 0px 1px 3px 1px rgba(0, 0, 0, 0.15);\n",
              "      filter: drop-shadow(0px 1px 2px rgba(0, 0, 0, 0.3));\n",
              "      fill: #FFFFFF;\n",
              "    }\n",
              "  </style>\n",
              "\n",
              "      <script>\n",
              "        const buttonEl =\n",
              "          document.querySelector('#df-08d732cf-7d99-4e55-b405-82a457947d79 button.colab-df-convert');\n",
              "        buttonEl.style.display =\n",
              "          google.colab.kernel.accessAllowed ? 'block' : 'none';\n",
              "\n",
              "        async function convertToInteractive(key) {\n",
              "          const element = document.querySelector('#df-08d732cf-7d99-4e55-b405-82a457947d79');\n",
              "          const dataTable =\n",
              "            await google.colab.kernel.invokeFunction('convertToInteractive',\n",
              "                                                     [key], {});\n",
              "          if (!dataTable) return;\n",
              "\n",
              "          const docLinkHtml = 'Like what you see? Visit the ' +\n",
              "            '<a target=\"_blank\" href=https://colab.research.google.com/notebooks/data_table.ipynb>data table notebook</a>'\n",
              "            + ' to learn more about interactive tables.';\n",
              "          element.innerHTML = '';\n",
              "          dataTable['output_type'] = 'display_data';\n",
              "          await google.colab.output.renderOutput(dataTable, element);\n",
              "          const docLink = document.createElement('div');\n",
              "          docLink.innerHTML = docLinkHtml;\n",
              "          element.appendChild(docLink);\n",
              "        }\n",
              "      </script>\n",
              "    </div>\n",
              "  </div>\n",
              "  "
            ],
            "text/plain": [
              "                                     labels                                               text\n",
              "0               [E11, ECAT, M11, M12, MCAT]  Emerging evidence that Mexico's economy was ba...\n",
              "1                               [C24, CCAT]  Chrysler Corp. Tuesday announced $380 million ...\n",
              "2  [C151, C15, CCAT, E41, ECAT, GCAT, GJOB]  CompuServe Corp. Tuesday reported a surprising...\n",
              "3                         [C151, C15, CCAT]  CompuServe Corp. Tuesday reported a surprising...\n",
              "4                          [C11, C22, CCAT]  If dining at Planet Hollywood made you feel li..."
            ]
          },
          "metadata": {},
          "execution_count": 6
        }
      ]
    },
    {
      "cell_type": "markdown",
      "metadata": {
        "id": "q-ejoeIHkut6"
      },
      "source": [
        "### Custom Dataset"
      ]
    },
    {
      "cell_type": "code",
      "metadata": {
        "colab": {
          "base_uri": "https://localhost:8080/"
        },
        "id": "WXSsDoDuP9i2",
        "outputId": "3296f975-6662-49cd-8810-51ede5aae4ae"
      },
      "source": [
        "train_size = 0.8\n",
        "train_dataset = train_df.sample(frac=train_size,random_state=200)\n",
        "valid_dataset = train_df.drop(train_dataset.index).reset_index(drop=True)\n",
        "train_dataset = train_dataset.reset_index(drop=True)\n",
        "test_dataset  = test_df.reset_index(drop=True)\n",
        "\n",
        "print(\"TRAIN Dataset: {}\".format(train_dataset.shape))\n",
        "print(\"VAL Dataset: {}\".format(valid_dataset.shape))\n",
        "print(\"TEST Dataset: {}\".format(test_dataset.shape))"
      ],
      "execution_count": null,
      "outputs": [
        {
          "output_type": "stream",
          "name": "stdout",
          "text": [
            "TRAIN Dataset: (18519, 2)\n",
            "VAL Dataset: (4630, 2)\n",
            "TEST Dataset: (781265, 2)\n"
          ]
        }
      ]
    },
    {
      "cell_type": "code",
      "source": [
        "#run only when you have pre val file\n",
        "valid_dataset = valid_dataset.reset_index(drop=True)\n",
        "train_dataset = train_dataset.reset_index(drop=True)\n",
        "test_dataset  = test_df.reset_index(drop=True)"
      ],
      "metadata": {
        "id": "DTr1NmSqryNj"
      },
      "execution_count": null,
      "outputs": []
    },
    {
      "cell_type": "code",
      "source": [
        "all_labels=[]\n",
        "for index, row in train_dataset.iterrows():\n",
        "  for x in row['labels']:\n",
        "    all_labels.append(x)"
      ],
      "metadata": {
        "id": "FnYPDwlEZuF7"
      },
      "execution_count": null,
      "outputs": []
    },
    {
      "cell_type": "code",
      "source": [
        "for index, row in test_dataset.iterrows():\n",
        "  for x in row['labels']:\n",
        "    all_labels.append(x)\n",
        "\n",
        "for index, row in valid_dataset.iterrows():\n",
        "  for x in row['labels']:\n",
        "    all_labels.append(x)"
      ],
      "metadata": {
        "id": "Uh8nZPuzbQhT"
      },
      "execution_count": null,
      "outputs": []
    },
    {
      "cell_type": "code",
      "source": [
        "print(len(set(all_labels)))"
      ],
      "metadata": {
        "colab": {
          "base_uri": "https://localhost:8080/"
        },
        "id": "_F4rUrKramgJ",
        "outputId": "4375440c-b3b7-4882-80b4-5e4953e5076e"
      },
      "execution_count": null,
      "outputs": [
        {
          "output_type": "stream",
          "name": "stdout",
          "text": [
            "5661\n"
          ]
        }
      ]
    },
    {
      "cell_type": "code",
      "source": [
        "file2 = open('stw_labels.txt', 'r')\n",
        "tax_labels=[]\n",
        "for line in file2:\n",
        "    x=line.split(\"\\t\")\n",
        "    b=x[1][:-1]\n",
        "    tax_labels.append(b)"
      ],
      "metadata": {
        "id": "aQUzACLocVpS"
      },
      "execution_count": null,
      "outputs": []
    },
    {
      "cell_type": "code",
      "source": [
        "print(len(set(tax_labels)))"
      ],
      "metadata": {
        "colab": {
          "base_uri": "https://localhost:8080/"
        },
        "id": "250JMWwhc2Jk",
        "outputId": "5e9253b6-02fe-4c21-fa6f-d3bfcb477a87"
      },
      "execution_count": null,
      "outputs": [
        {
          "output_type": "stream",
          "name": "stdout",
          "text": [
            "6217\n"
          ]
        }
      ]
    },
    {
      "cell_type": "code",
      "source": [
        "diff=list(set(all_labels).difference(tax_labels))"
      ],
      "metadata": {
        "id": "zDVGX6wzdGu_"
      },
      "execution_count": null,
      "outputs": []
    },
    {
      "cell_type": "code",
      "source": [
        "diff.remove('10042-6')"
      ],
      "metadata": {
        "id": "WWohLL4xc-Se"
      },
      "execution_count": null,
      "outputs": []
    },
    {
      "cell_type": "code",
      "source": [
        "\"\\\",\\\"\".join(list(set(tax_labels).difference(all_labels)))"
      ],
      "metadata": {
        "colab": {
          "base_uri": "https://localhost:8080/",
          "height": 174
        },
        "id": "J-rUJRoKf8MW",
        "outputId": "25edac65-6742-456a-a005-1b602098016b"
      },
      "execution_count": null,
      "outputs": [
        {
          "output_type": "execute_result",
          "data": {
            "application/vnd.google.colaboratory.intrinsic+json": {
              "type": "string"
            },
            "text/plain": [
              "'197727\",\"29942-3\",\"71036\",\"70493\",\"190023\",\"a\",\"70429\",\"70174\",\"71025\",\"73300\",\"70031\",\"26331-5\",\"70265\",\"26380-6\",\"70819\",\"70881\",\"70258\",\"71106\",\"70095\",\"19106-3\",\"71092\",\"73342\",\"12717-2\",\"71059\",\"72186\",\"72180\",\"70151\",\"70002\",\"70904\",\"71052\",\"73332\",\"70178\",\"71075\",\"70943\",\"196876\",\"73363\",\"29874-1\",\"70235\",\"70012\",\"70893\",\"29980-2\",\"70562\",\"73345\",\"70080\",\"70936\",\"b\",\"175787\",\"70101\",\"72181\",\"73365\",\"29832-3\",\"73373\",\"197040\",\"70825\",\"72393\",\"70902\",\"71056\",\"185787\",\"71031\",\"73358\",\"70889\",\"70880\",\"70087\",\"70039\",\"70928\",\"71014\",\"70192\",\"71102\",\"70481\",\"16964-0\",\"70940\",\"16974-4\",\"70148\",\"70254\",\"71057\",\"71078\",\"73333\",\"70058\",\"70486\",\"71098\",\"175786\",\"182540\",\"70361\",\"71061\",\"197981\",\"71104\",\"73331\",\"70140\",\"70199\",\"70969\",\"70051\",\"70504\",\"194088\",\"71030\",\"70992\",\"70561\",\"29860-5\",\"70169\",\"70923\",\"70238\",\"26856-4\",\"70931\",\"189012\",\"70082\",\"70416\",\"180720\",\"70811\",\"186754\",\"70968\",\"29979-1\",\"70096\",\"71089\",\"73295\",\"71074\",\"71094\",\"70245\",\"71076\",\"70014\",\"70556\",\"70471\",\"72394\",\"29711-1\",\"71105\",\"194089\",\"71091\",\"16968-6\",\"70883\",\"70135\",\"71081\",\"181994\",\"70383\",\"70892\",\"70269\",\"70187\",\"73394\",\"30022-0\",\"73357\",\"187370\",\"30021-2\",\"73380\",\"70933\",\"71103\",\"70832\",\"70259\",\"71046\",\"71119\",\"16975-2\",\"73303\",\"71060\",\"70463\",\"72185\",\"70310\",\"73377\",\"71073\",\"29990-6\",\"194454\",\"70130\",\"70990\",\"16769-5\",\"71116\",\"71064\",\"70829\",\"71087\",\"186755\",\"14463-4\",\"70184\",\"70580\",\"73302\",\"196912\",\"73104\",\"70872\",\"70141\",\"71013\",\"70853\",\"71033\",\"71024\",\"70438\",\"70300\",\"71110\",\"73390\",\"71085\",\"70816\",\"29648-3\",\"73301\",\"70845\",\"70485\",\"180785\",\"70987\",\"70834\",\"70905\",\"71069\",\"72182\",\"70876\",\"70234\",\"16971-3\",\"70076\",\"70986\",\"70355\",\"p\",\"70186\",\"70372\",\"70020\",\"70817\",\"w\",\"70963\",\"185840\",\"71009\",\"70144\",\"71097\",\"73336\",\"71005\",\"180788\",\"70903\",\"70091\",\"70989\",\"73352\",\"196981\",\"70572\",\"70017\",\"13077-0\",\"71112\",\"71034\",\"71029\",\"70256\",\"73379\",\"186753\",\"70477\",\"73382\",\"73381\",\"73375\",\"70882\",\"70582\",\"73395\",\"70212\",\"73378\",\"70026\",\"73339\",\"16956-6\",\"70028\",\"26844-4\",\"70942\",\"71084\",\"71115\",\"70938\",\"70956\",\"70037\",\"73376\",\"70154\",\"71020\",\"71101\",\"71018\",\"71086\",\"73340\",\"70373\",\"29779-2\",\"71003\",\"70128\",\"70961\",\"180783\",\"70036\",\"71002\",\"70013\",\"70888\",\"70052\",\"73388\",\"70341\",\"71053\",\"71038\",\"70292\",\"70814\",\"70959\",\"72184\",\"70321\",\"70424\",\"70899\",\"16946-2\",\"71100\",\"71058\",\"71077\",\"70939\",\"70873\",\"70929\",\"70879\",\"29826-5\",\"70833\",\"70875\",\"70368\",\"70557\",\"29787-3\",\"194780\",\"70822\",\"30065-3\",\"70143\",\"26501-6\",\"70201\",\"70871\",\"70799\",\"70573\",\"70423\",\"71083\",\"73334\",\"70160\",\"183026\",\"70932\",\"70505\",\"29976-0\",\"70538\",\"71065\",\"73338\",\"70403\",\"70964\",\"73337\",\"70188\",\"29823-4\",\"70328\",\"70539\",\"71066\",\"70418\",\"70958\",\"70549\",\"73396\",\"70342\",\"73367\",\"191500\",\"26409-1\",\"73347\",\"73364\",\"70109\",\"29684-6\",\"73346\",\"70348\",\"70046\",\"70070\",\"71080\",\"70274\",\"180784\",\"70581\",\"14962-0\",\"71026\",\"70965\",\"71099\",\"73391\",\"70960\",\"70818\",\"70397\",\"70901\",\"70386\",\"179318\",\"16969-4\",\"71055\",\"70941\",\"70358\",\"71117\",\"71039\",\"70257\",\"70183\",\"71010\",\"16962-4\",\"29737-4\",\"70134\",\"180781\",\"71008\",\"29782-6\",\"73341\",\"19062-4\",\"10752-3\",\"180740\",\"Root\",\"70040\",\"196997\",\"70086\",\"70060\",\"70856\",\"14980-5\",\"71082\",\"70506\",\"71011\",\"71070\",\"30062-2\",\"194915\",\"70999\",\"70852\",\"70855\",\"70828\",\"194374\",\"70306\",\"70384\",\"71019\",\"70242\",\"73383\",\"73103\",\"70209\",\"180786\",\"70038\",\"70179\",\"70947\",\"70926\",\"29854-0\",\"73362\",\"180988\",\"71015\",\"70844\",\"70476\",\"194661\",\"71016\",\"183027\",\"70991\",\"71006\",\"71063\",\"180787\",\"70952\",\"71045\",\"70305\",\"197953\",\"73393\",\"v\",\"194331\",\"29776-1\",\"70851\",\"70970\",\"182563\",\"70131\",\"73384\",\"70021\",\"70465\",\"189442\",\"70270\",\"73361\",\"70011\",\"70944\",\"26707-0\",\"70467\",\"16973-6\",\"29849-0\",\"71113\",\"29861-3\",\"70007\",\"71017\",\"26679-0\",\"73356\",\"71035\",\"70071\",\"70651\",\"73305\",\"70498\",\"182604\",\"71093\",\"180739\",\"194398\",\"71095\",\"70346\",\"194781\",\"70860\",\"70550\",\"70891\",\"70066\",\"70241\",\"29858-6\",\"26379-5\",\"29953-5\",\"197189\",\"73366\",\"71079\",\"29796-2\",\"193280\",\"71111\",\"72183\",\"73348\",\"73344\",\"71072\",\"70057\",\"n\",\"73353\",\"70406\",\"14343-0\",\"70041\",\"70253\",\"73359\",\"70120\",\"184936\",\"70996\",\"29827-3\",\"71028\",\"70307\",\"70085\",\"71051\",\"70004\",\"30058-0\",\"71108\",\"70056\",\"70182\",\"73354\",\"71037\",\"71042\",\"183025\",\"70003\",\"70049\",\"71096\",\"71071\",\"70900\",\"70233\",\"197518\",\"180782\",\"70278\",\"70239\",\"70897\",\"26784-3\",\"70839\",\"187379\",\"70957\",\"70578\",\"70455\",\"70029\",\"73351\",\"70445\",\"70575\",\"70005\",\"70459\",\"71032\",\"180780\",\"g\",\"70244\",\"71007\",\"70647\",\"70227\",\"70113\",\"70055\",\"70847\",\"70327\",\"70874\",\"70823\",\"70030\",\"70843\",\"26478-3\",\"70180\",\"189969\",\"71043\",\"71067\",\"71044\",\"70560\",\"70415\",\"70967\",\"70175\",\"197050\",\"70198\",\"73385\",\"196934\",\"71062\",\"70865\",\"70147\",\"195096\",\"70924\",\"71050\",\"71068\",\"70301\",\"70142\",\"194843\",\"26643-0\",\"71109\",\"70176\",\"194062'"
            ]
          },
          "metadata": {},
          "execution_count": 16
        }
      ]
    },
    {
      "cell_type": "code",
      "source": [
        "count=0\n",
        "for index, row in train_dataset.iterrows():\n",
        "  for x in diff:\n",
        "    if x in row['labels']:\n",
        "      count+=1\n",
        "print(count)"
      ],
      "metadata": {
        "colab": {
          "base_uri": "https://localhost:8080/"
        },
        "id": "y2eEgQ-cfHcR",
        "outputId": "4bc9d8ad-0e75-4812-c974-60e6296f0fff"
      },
      "execution_count": null,
      "outputs": [
        {
          "output_type": "stream",
          "name": "stdout",
          "text": [
            "39\n"
          ]
        }
      ]
    },
    {
      "cell_type": "code",
      "metadata": {
        "colab": {
          "base_uri": "https://localhost:8080/",
          "height": 206
        },
        "id": "9cNWleaQMgeV",
        "outputId": "b205073b-88b3-4098-b414-ed886a77c4c4"
      },
      "source": [
        "train_dataset.head()"
      ],
      "execution_count": null,
      "outputs": [
        {
          "output_type": "execute_result",
          "data": {
            "text/html": [
              "\n",
              "  <div id=\"df-442e1ac8-7546-4f06-9a4b-f4ca98526cf9\">\n",
              "    <div class=\"colab-df-container\">\n",
              "      <div>\n",
              "<style scoped>\n",
              "    .dataframe tbody tr th:only-of-type {\n",
              "        vertical-align: middle;\n",
              "    }\n",
              "\n",
              "    .dataframe tbody tr th {\n",
              "        vertical-align: top;\n",
              "    }\n",
              "\n",
              "    .dataframe thead th {\n",
              "        text-align: right;\n",
              "    }\n",
              "</style>\n",
              "<table border=\"1\" class=\"dataframe\">\n",
              "  <thead>\n",
              "    <tr style=\"text-align: right;\">\n",
              "      <th></th>\n",
              "      <th>labels</th>\n",
              "      <th>text</th>\n",
              "    </tr>\n",
              "  </thead>\n",
              "  <tbody>\n",
              "    <tr>\n",
              "      <th>0</th>\n",
              "      <td>[Top/Features, Top/Features/Arts, Top/Features...</td>\n",
              "      <td>women 's bodies afloat stream patterns nancy m...</td>\n",
              "    </tr>\n",
              "    <tr>\n",
              "      <th>1</th>\n",
              "      <td>[Top/News, Top/News/Business, Top/Features, To...</td>\n",
              "      <td>lead japanese newspaper reported nippon life i...</td>\n",
              "    </tr>\n",
              "    <tr>\n",
              "      <th>2</th>\n",
              "      <td>[Top/News, Top/News/New York and Region, Top/N...</td>\n",
              "      <td>article last wednesday dispute donald j trump ...</td>\n",
              "    </tr>\n",
              "    <tr>\n",
              "      <th>3</th>\n",
              "      <td>[Top/Classifieds, Top/Classifieds/Paid Death N...</td>\n",
              "      <td>dwyer w remember love</td>\n",
              "    </tr>\n",
              "    <tr>\n",
              "      <th>4</th>\n",
              "      <td>[Top/News, Top/News/Sports, Top/Features, Top/...</td>\n",
              "      <td>gave another indication today westchester coun...</td>\n",
              "    </tr>\n",
              "  </tbody>\n",
              "</table>\n",
              "</div>\n",
              "      <button class=\"colab-df-convert\" onclick=\"convertToInteractive('df-442e1ac8-7546-4f06-9a4b-f4ca98526cf9')\"\n",
              "              title=\"Convert this dataframe to an interactive table.\"\n",
              "              style=\"display:none;\">\n",
              "        \n",
              "  <svg xmlns=\"http://www.w3.org/2000/svg\" height=\"24px\"viewBox=\"0 0 24 24\"\n",
              "       width=\"24px\">\n",
              "    <path d=\"M0 0h24v24H0V0z\" fill=\"none\"/>\n",
              "    <path d=\"M18.56 5.44l.94 2.06.94-2.06 2.06-.94-2.06-.94-.94-2.06-.94 2.06-2.06.94zm-11 1L8.5 8.5l.94-2.06 2.06-.94-2.06-.94L8.5 2.5l-.94 2.06-2.06.94zm10 10l.94 2.06.94-2.06 2.06-.94-2.06-.94-.94-2.06-.94 2.06-2.06.94z\"/><path d=\"M17.41 7.96l-1.37-1.37c-.4-.4-.92-.59-1.43-.59-.52 0-1.04.2-1.43.59L10.3 9.45l-7.72 7.72c-.78.78-.78 2.05 0 2.83L4 21.41c.39.39.9.59 1.41.59.51 0 1.02-.2 1.41-.59l7.78-7.78 2.81-2.81c.8-.78.8-2.07 0-2.86zM5.41 20L4 18.59l7.72-7.72 1.47 1.35L5.41 20z\"/>\n",
              "  </svg>\n",
              "      </button>\n",
              "      \n",
              "  <style>\n",
              "    .colab-df-container {\n",
              "      display:flex;\n",
              "      flex-wrap:wrap;\n",
              "      gap: 12px;\n",
              "    }\n",
              "\n",
              "    .colab-df-convert {\n",
              "      background-color: #E8F0FE;\n",
              "      border: none;\n",
              "      border-radius: 50%;\n",
              "      cursor: pointer;\n",
              "      display: none;\n",
              "      fill: #1967D2;\n",
              "      height: 32px;\n",
              "      padding: 0 0 0 0;\n",
              "      width: 32px;\n",
              "    }\n",
              "\n",
              "    .colab-df-convert:hover {\n",
              "      background-color: #E2EBFA;\n",
              "      box-shadow: 0px 1px 2px rgba(60, 64, 67, 0.3), 0px 1px 3px 1px rgba(60, 64, 67, 0.15);\n",
              "      fill: #174EA6;\n",
              "    }\n",
              "\n",
              "    [theme=dark] .colab-df-convert {\n",
              "      background-color: #3B4455;\n",
              "      fill: #D2E3FC;\n",
              "    }\n",
              "\n",
              "    [theme=dark] .colab-df-convert:hover {\n",
              "      background-color: #434B5C;\n",
              "      box-shadow: 0px 1px 3px 1px rgba(0, 0, 0, 0.15);\n",
              "      filter: drop-shadow(0px 1px 2px rgba(0, 0, 0, 0.3));\n",
              "      fill: #FFFFFF;\n",
              "    }\n",
              "  </style>\n",
              "\n",
              "      <script>\n",
              "        const buttonEl =\n",
              "          document.querySelector('#df-442e1ac8-7546-4f06-9a4b-f4ca98526cf9 button.colab-df-convert');\n",
              "        buttonEl.style.display =\n",
              "          google.colab.kernel.accessAllowed ? 'block' : 'none';\n",
              "\n",
              "        async function convertToInteractive(key) {\n",
              "          const element = document.querySelector('#df-442e1ac8-7546-4f06-9a4b-f4ca98526cf9');\n",
              "          const dataTable =\n",
              "            await google.colab.kernel.invokeFunction('convertToInteractive',\n",
              "                                                     [key], {});\n",
              "          if (!dataTable) return;\n",
              "\n",
              "          const docLinkHtml = 'Like what you see? Visit the ' +\n",
              "            '<a target=\"_blank\" href=https://colab.research.google.com/notebooks/data_table.ipynb>data table notebook</a>'\n",
              "            + ' to learn more about interactive tables.';\n",
              "          element.innerHTML = '';\n",
              "          dataTable['output_type'] = 'display_data';\n",
              "          await google.colab.output.renderOutput(dataTable, element);\n",
              "          const docLink = document.createElement('div');\n",
              "          docLink.innerHTML = docLinkHtml;\n",
              "          element.appendChild(docLink);\n",
              "        }\n",
              "      </script>\n",
              "    </div>\n",
              "  </div>\n",
              "  "
            ],
            "text/plain": [
              "                                              labels                                               text\n",
              "0  [Top/Features, Top/Features/Arts, Top/Features...  women 's bodies afloat stream patterns nancy m...\n",
              "1  [Top/News, Top/News/Business, Top/Features, To...  lead japanese newspaper reported nippon life i...\n",
              "2  [Top/News, Top/News/New York and Region, Top/N...  article last wednesday dispute donald j trump ...\n",
              "3  [Top/Classifieds, Top/Classifieds/Paid Death N...                              dwyer w remember love\n",
              "4  [Top/News, Top/News/Sports, Top/Features, Top/...  gave another indication today westchester coun..."
            ]
          },
          "metadata": {},
          "execution_count": 6
        }
      ]
    },
    {
      "cell_type": "code",
      "metadata": {
        "colab": {
          "base_uri": "https://localhost:8080/"
        },
        "id": "MwTCEkh_Mtqj",
        "outputId": "1a9ad0d6-2f03-43d8-aec9-98b676688a5f"
      },
      "source": [
        "import nltk\n",
        "import json\n",
        "from nltk.corpus import stopwords\n",
        "nltk.download('stopwords')\n",
        "stopwords_eng = stopwords.words('english')\n",
        "\n",
        "def preprocess_text(text):\n",
        "    pp_text = nltk.re.sub(\"[^a-zA-Z]\", \" \", text)  # remove remaining special characters\n",
        "    pp_text = pp_text.lower()\n",
        "    words = pp_text.split()\n",
        "    words = [word for word in words if not word in stopwords_eng]  # remove stop words\n",
        "    return words\n",
        "\n",
        "file1=open(\"/content/rcv1-train.json\",'r+')\n",
        "#file_data = json.load(file1)\n",
        "# Join new_data with file_data inside emp_details\n",
        "#file_data.append(new_data)\n",
        "\n",
        "train_dict={}\n",
        "for index, row in train_dataset.iterrows():\n",
        "    train_dict[\"label\"]=row['labels']\n",
        "    text=preprocess_text(row['text'])\n",
        "    train_dict[\"token\"]=text\n",
        "    #print(train_dict)\n",
        "    file1.write(json.dumps(train_dict)+'\\n')\n",
        "    #file_data.append(train_dict)\n",
        "file1.close()"
      ],
      "execution_count": null,
      "outputs": [
        {
          "output_type": "stream",
          "name": "stdout",
          "text": [
            "[nltk_data] Downloading package stopwords to /root/nltk_data...\n",
            "[nltk_data]   Package stopwords is already up-to-date!\n"
          ]
        }
      ]
    },
    {
      "cell_type": "code",
      "metadata": {
        "id": "lX5U0_k0Mq43"
      },
      "source": [
        "file1=open(\"/content/rcv1-test.json\",'r+')\n",
        "#file_data = json.load(file1)\n",
        "# Join new_data with file_data inside emp_details\n",
        "#file_data.append(new_data)\n",
        "\n",
        "train_dict={}\n",
        "for index, row in test_dataset.iterrows():\n",
        "    train_dict[\"label\"]=row['labels']\n",
        "    text=preprocess_text(row['text'])\n",
        "    train_dict[\"token\"]=text\n",
        "    #print(train_dict)\n",
        "    file1.write(json.dumps(train_dict)+'\\n')\n",
        "    #file_data.append(train_dict)\n",
        "file1.close()"
      ],
      "execution_count": null,
      "outputs": []
    },
    {
      "cell_type": "code",
      "metadata": {
        "id": "_JKrWU76M2t_"
      },
      "source": [
        "file1=open(\"/content/rcv1-val.json\",'r+')\n",
        "#file_data = json.load(file1)\n",
        "# Join new_data with file_data inside emp_details\n",
        "#file_data.append(new_data)\n",
        "\n",
        "train_dict={}\n",
        "for index, row in valid_dataset.iterrows():\n",
        "    train_dict[\"label\"]=row['labels']\n",
        "    text=preprocess_text(row['text'])\n",
        "    train_dict[\"token\"]=text\n",
        "    #print(train_dict)\n",
        "    file1.write(json.dumps(train_dict)+'\\n')\n",
        "    #file_data.append(train_dict)\n",
        "file1.close()"
      ],
      "execution_count": null,
      "outputs": []
    },
    {
      "cell_type": "markdown",
      "metadata": {
        "id": "B8VitHozhtel"
      },
      "source": [
        "##END"
      ]
    }
  ]
}